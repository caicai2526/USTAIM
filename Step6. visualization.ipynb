{
 "cells": [
  {
   "cell_type": "code",
   "execution_count": null,
   "id": "a7fa11b3",
   "metadata": {
    "scrolled": true
   },
   "outputs": [],
   "source": [
    "import os\n",
    "os.environ['KMP_DUPLICATE_LIB_OK'] = 'True'\n",
    "\n",
    "import monai\n",
    "from glob import glob\n",
    "import matplotlib.pyplot as plt\n",
    "from datetime import datetime\n",
    "\n",
    "import get_param_in_cwd\n",
    "\n",
    "model_root = get_param_in_cwd('model_root', 'models')\n",
    "# 模型名称\n",
    "model_name = get_param_in_cwd('model_name', 'resnet50')\n",
    "\n",
    "samples = [os.path.join(mydir, f) for f in os.listdir(mydir) if f.endswith('.jpg') or f.endswith('.png')]\n",
    "print(mydir)\n",
    "print(samples)\n",
    "model_name"
   ]
  },
  {
   "cell_type": "code",
   "execution_count": null,
   "id": "6f9a9194",
   "metadata": {},
   "outputs": [],
   "source": [
    "from custom.components.comp2 import extract, init_from_model, init_from_onekey\n",
    "\n",
    "model, transformer, device = init_from_onekey(os.path.join(model_root, model_name, 'viz'))\n",
    "for n, m in model.named_modules():\n",
    "    print('Feature name:', n, \"|| Module:\", m)"
   ]
  },
  {
   "cell_type": "code",
   "execution_count": 13,
   "id": "b9d9ad6f",
   "metadata": {},
   "outputs": [],
   "source": [
    "\n",
    "target_layer = \"features.denseblock4.denselayer16.conv2\"\n",
    "gradcam = monai.visualize.GradCAM(nn_module=model, target_layers=target_layer)"
   ]
  },
  {
   "cell_type": "code",
   "execution_count": null,
   "id": "e9eb2b98",
   "metadata": {
    "scrolled": false
   },
   "outputs": [],
   "source": [
    "from datasets.image_loader import default_loader\n",
    "from custom.components.comp2 import show_cam_on_image\n",
    "import torch\n",
    "import os\n",
    "import random\n",
    "\n",
    "random.shuffle(samples)\n",
    "viz_dir = r'F:\\Result\\IBD_UST_SVS\\viz\\Grad_CAM\\yes'\n",
    "os.makedirs(viz_dir, exist_ok=True)\n",
    "for sample in samples:\n",
    "    img = default_loader(sample)\n",
    "    sample_ = transformer(img)\n",
    "    sample_  = sample_.view(1, *sample_.size()).to(device)\n",
    "    res_cam = gradcam(x=sample_, class_idx=None)\n",
    "    fig, axes = plt.subplots(1, 2, figsize=(20, 10), facecolor='white')\n",
    "    axes[0].imshow(img.resize(sample_.size()[2:]))\n",
    "    axes[0].axis('off')\n",
    "    axes[1].imshow(show_cam_on_image(img.resize(sample_.size()[2:]), -res_cam[0][0].cpu(), use_rgb=True, reverse=False))\n",
    "    axes[1].axis('off')\n",
    "    plt.savefig(f'{viz_dir}/{os.path.basename(sample)}', bbox_inches = 'tight')\n",
    "    # plt.show()"
   ]
  },
  {
   "cell_type": "code",
   "execution_count": null,
   "id": "5048302a",
   "metadata": {},
   "outputs": [],
   "source": []
  }
 ],
 "metadata": {
  "kernelspec": {
   "display_name": "Python 3 (ipykernel)",
   "language": "python",
   "name": "python3"
  },
  "language_info": {
   "codemirror_mode": {
    "name": "ipython",
    "version": 3
   },
   "file_extension": ".py",
   "mimetype": "text/x-python",
   "name": "python",
   "nbconvert_exporter": "python",
   "pygments_lexer": "ipython3",
   "version": "3.7.12"
  }
 },
 "nbformat": 4,
 "nbformat_minor": 5
}
