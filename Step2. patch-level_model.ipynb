{
 "cells": [
  {
   "cell_type": "code",
   "execution_count": 1,
   "id": "a008dd0d",
   "metadata": {},
   "outputs": [],
   "source": [
    "import os\n",
    "\n",
    "import get_param_in_cwd\n",
    "\n",
    "model_root = get_param_in_cwd('model_root', 'models')\n",
    "data_pattern = get_param_in_cwd('data_pattern', os.path.join(model_root, 'crop')) \n",
    "model_name = get_param_in_cwd('model_name', 'resnet18')\n",
    "epoch = get_param_in_cwd('epoch', 50)"
   ]
  },
  {
   "cell_type": "code",
   "execution_count": null,
   "id": "7050436a",
   "metadata": {},
   "outputs": [],
   "source": [
    "from classification.run_classification import main as clf_main\n",
    "from collections import namedtuple\n",
    "\n",
    "split_info = r'F:\\DataProcessing\\IBD\\IBD_UST_SVS\\patch256\\split_info'\n",
    "train_f = split_info + r'\\train.txt'\n",
    "val_f = split_info + r'\\val.txt'\n",
    "labels_f = split_info + r'\\labels.txt'\n",
    "\n",
    "params = dict(train=train_f,\n",
    "              valid=val_f,\n",
    "              labels_file=labels_f,\n",
    "              data_pattern='',\n",
    "              j=8,\n",
    "              max2use=None,\n",
    "              val_max2use=None,\n",
    "              batch_balance=False,\n",
    "              normalize_method='imagenet',\n",
    "              model_name='resnet18',\n",
    "              gpus=[0],\n",
    "              batch_size=32,\n",
    "              epochs=epoch,\n",
    "              init_lr=0.01,\n",
    "              optimizer='sgd',\n",
    "              retrain=None,\n",
    "              model_root=model_root,\n",
    "              add_date=False,\n",
    "              iters_start=0,\n",
    "              iters_verbose=128,\n",
    "              save_per_epoch=False,\n",
    "              pretrained=True)\n",
    "\n",
    "Args = namedtuple(\"Args\", params)\n",
    "clf_main(Args(**params))"
   ]
  },
  {
   "cell_type": "code",
   "execution_count": null,
   "id": "f389a016",
   "metadata": {},
   "outputs": [],
   "source": []
  }
 ],
 "metadata": {
  "kernelspec": {
   "display_name": "Python 3 (ipykernel)",
   "language": "python",
   "name": "python3"
  },
  "language_info": {
   "codemirror_mode": {
    "name": "ipython",
    "version": 3
   },
   "file_extension": ".py",
   "mimetype": "text/x-python",
   "name": "python",
   "nbconvert_exporter": "python",
   "pygments_lexer": "ipython3",
   "version": "3.7.12"
  }
 },
 "nbformat": 4,
 "nbformat_minor": 5
}
